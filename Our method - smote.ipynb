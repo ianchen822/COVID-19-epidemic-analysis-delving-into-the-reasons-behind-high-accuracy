{
 "cells": [
  {
   "cell_type": "code",
   "execution_count": 1,
   "id": "773b935d",
   "metadata": {},
   "outputs": [],
   "source": [
    "import pandas as pd\n",
    "import numpy as np"
   ]
  },
  {
   "cell_type": "code",
   "execution_count": null,
   "id": "4f12b857",
   "metadata": {},
   "outputs": [],
   "source": [
    "data = pd.read_csv('Israel Covid Dataset Preprocessed - class - S & S.csv')\n",
    "data.head()"
   ]
  }
 ],
 "metadata": {
  "kernelspec": {
   "display_name": "Python 3 (ipykernel)",
   "language": "python",
   "name": "python3"
  },
  "language_info": {
   "codemirror_mode": {
    "name": "ipython",
    "version": 3
   },
   "file_extension": ".py",
   "mimetype": "text/x-python",
   "name": "python",
   "nbconvert_exporter": "python",
   "pygments_lexer": "ipython3",
   "version": "3.9.7"
  }
 },
 "nbformat": 4,
 "nbformat_minor": 5
}
